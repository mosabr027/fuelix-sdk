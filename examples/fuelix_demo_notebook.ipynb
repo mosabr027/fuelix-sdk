{
  "cells": [
    {
      "cell_type": "markdown",
      "id": "0e41057f",
      "metadata": {
        "id": "0e41057f"
      },
      "source": [
        "# FuelIX SDK Demo\n",
        "This notebook demonstrates the use of the `fuelix_sdk` package."
      ]
    },
    {
      "cell_type": "code",
      "execution_count": null,
      "id": "a1413316",
      "metadata": {
        "id": "a1413316"
      },
      "outputs": [],
      "source": [
        "# Step 1: Initialize the client with your API key\n",
        "from fuelix_sdk import FuelixClient\n",
        "\n",
        "client = FuelixClient(api_key=\"sk-YOUR-KEY-HERE\")"
      ]
    },
    {
      "cell_type": "code",
      "execution_count": null,
      "id": "aec0f7ce",
      "metadata": {
        "id": "aec0f7ce"
      },
      "outputs": [],
      "source": [
        "# Step 2: List assistants\n",
        "assistants = client.assistants.list()\n",
        "for i, a in enumerate(assistants):\n",
        "    print(f\"{i+1}. {a['name']} (id: {a['id']})\")"
      ]
    },
    {
      "cell_type": "code",
      "execution_count": null,
      "id": "cf76b13d",
      "metadata": {
        "id": "cf76b13d"
      },
      "outputs": [],
      "source": [
        "# Step 3: Send a prompt to the assistant\n",
        "assistant_id = assistants[0]['id']\n",
        "response = client.assistants.chat(assistant_id, \"What is quantum gravity?\")\n",
        "print(\"Assistant response:\\n\", response)"
      ]
    },
    {
      "cell_type": "code",
      "execution_count": null,
      "id": "b6897729",
      "metadata": {
        "id": "b6897729"
      },
      "outputs": [],
      "source": [
        "# Step 4: Generate an image with FuelIX\n",
        "from fuelix_sdk.core.images import generate_image\n",
        "import base64\n",
        "from PIL import Image\n",
        "from io import BytesIO\n",
        "\n",
        "prompt = \"A futuristic city at sunset, viewed from a mountain\"\n",
        "image_data = generate_image(client, prompt, size=\"512x512\")\n",
        "b64 = image_data['b64_json']\n",
        "img_bytes = base64.b64decode(b64)\n",
        "Image.open(BytesIO(img_bytes))"
      ]
    },
    {
      "cell_type": "markdown",
      "id": "6bb7e7b4",
      "metadata": {
        "id": "6bb7e7b4"
      },
      "source": [
        "That’s it! You’ve tested assistants and image generation with FuelIX."
      ]
    }
  ],
  "metadata": {
    "colab": {
      "provenance": []
    }
  },
  "nbformat": 4,
  "nbformat_minor": 5
}